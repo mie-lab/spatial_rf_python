{
 "cells": [
  {
   "cell_type": "code",
   "execution_count": 1,
   "id": "2d19a687",
   "metadata": {},
   "outputs": [],
   "source": [
    "# Standard and GIS Modules\n",
    "import os\n",
    "import sys\n",
    "import numpy as np\n",
    "import pandas as pd\n",
    "import time\n",
    "import scipy"
   ]
  },
  {
   "cell_type": "code",
   "execution_count": 2,
   "id": "8f3b0ea2",
   "metadata": {},
   "outputs": [],
   "source": [
    "import warnings\n",
    "warnings.filterwarnings(\"ignore\")"
   ]
  },
  {
   "cell_type": "code",
   "execution_count": 3,
   "id": "8c4372eb",
   "metadata": {},
   "outputs": [],
   "source": [
    "from sklearn.ensemble import RandomForestRegressor\n",
    "from sklearn.linear_model import LinearRegression\n",
    "from sklearn.metrics import accuracy_score, mean_squared_error, mean_absolute_error\n",
    "from sprf.spatial_random_forest import SpatialRandomForest"
   ]
  },
  {
   "cell_type": "markdown",
   "id": "3762c2cc",
   "metadata": {},
   "source": [
    "## Methods for cross validation"
   ]
  },
  {
   "cell_type": "code",
   "execution_count": 4,
   "id": "d42af4cf",
   "metadata": {},
   "outputs": [],
   "source": [
    "def get_folds(nr_samples, nr_folds = 10):\n",
    "    fold_inds = np.random.permutation(nr_samples)\n",
    "    num_per_fold = nr_samples//nr_folds\n",
    "    train_inds, test_inds = [], []\n",
    "    for i in range(nr_folds):\n",
    "#         print(\"start, end\", i*num_per_fold)\n",
    "        if i < nr_folds-1:\n",
    "            test_inds_fold = np.arange(i*num_per_fold, (i+1)*num_per_fold, 1)\n",
    "        else:\n",
    "            test_inds_fold = np.arange(i*num_per_fold, nr_samples)\n",
    "        test_inds.append(fold_inds[test_inds_fold])\n",
    "        train_inds.append(np.delete(fold_inds, test_inds_fold))\n",
    "    return train_inds, test_inds"
   ]
  },
  {
   "cell_type": "code",
   "execution_count": 5,
   "id": "a2c9715f",
   "metadata": {},
   "outputs": [],
   "source": [
    "def prepare_data(data, target, lon=\"x\", lat=\"y\"):\n",
    "    \"\"\"Assumes that all other columns are used as covariates\"\"\"\n",
    "    covariates = [col for col in data.columns if col not in [lon, lat, target]]\n",
    "    return data[covariates], data[target], data[[lon, lat]]"
   ]
  },
  {
   "cell_type": "code",
   "execution_count": 6,
   "id": "b3808efb",
   "metadata": {},
   "outputs": [],
   "source": [
    "def add_metrics(test_pred, test_y, res_dict_init, method):\n",
    "    res_dict = res_dict_init.copy()\n",
    "    res_dict[\"method\"] = method\n",
    "    res_dict[\"MSE\"] = mean_squared_error(test_pred, test_y)\n",
    "    res_dict[\"MAE\"] = mean_absolute_error(test_pred, test_y)\n",
    "    return res_dict"
   ]
  },
  {
   "cell_type": "code",
   "execution_count": 7,
   "id": "f1a3033e",
   "metadata": {},
   "outputs": [],
   "source": [
    "def cross_validation(data):\n",
    "    nr_folds = 10\n",
    "    train_inds, test_inds = get_folds(len(data), nr_folds = nr_folds)\n",
    "    res_df = []\n",
    "\n",
    "    # dataset specific information\n",
    "    target = dataset_target[DATASET]\n",
    "    x_coord_name = dataset_x.get(DATASET, \"x\")\n",
    "    y_coord_name = dataset_y.get(DATASET, \"y\")\n",
    "\n",
    "    # model params --> TODO: grid search\n",
    "    max_depth = 10\n",
    "    spatial_neighbors = len(data) // 5 # one fifth of the dataset\n",
    "    print(\"Number of neighbors considered for spatial RF:\", spatial_neighbors)\n",
    "\n",
    "    for fold in range(nr_folds):\n",
    "        res_dict_init = {\"fold\": fold, \"max_depth\": max_depth}\n",
    "        train_data = data.iloc[train_inds[fold]]\n",
    "        test_data = data.iloc[test_inds[fold]]\n",
    "        train_x, train_y, train_coords = prepare_data(train_data, target, x_coord_name, y_coord_name)\n",
    "        test_x, test_y, test_coords = prepare_data(test_data, target, x_coord_name, y_coord_name)\n",
    "    #     print(train_x.shape, train_y.shape, train_coords.shape, test_x.shape, test_y.shape, test_coords.shape)\n",
    "\n",
    "        # Method 1: global RF\n",
    "        rf = RandomForestRegressor(max_depth=max_depth)\n",
    "        rf.fit(train_x, train_y)\n",
    "        test_pred = rf.predict(test_x)\n",
    "        res_df.append(add_metrics(test_pred, test_y, res_dict_init, \"global_rf\"))\n",
    "\n",
    "        # Method 2: global RF with coordinates\n",
    "        rf = RandomForestRegressor(max_depth=max_depth)\n",
    "        rf.fit(train_x.join(train_coords), train_y)\n",
    "        test_pred = rf.predict(test_x.join(test_coords))\n",
    "        res_df.append(add_metrics(test_pred, test_y, res_dict_init, \"coord_rf\"))\n",
    "\n",
    "        # Method 2: linear regression\n",
    "        lr = LinearRegression()\n",
    "        lr.fit(train_x, train_y)\n",
    "        test_pred = lr.predict(test_x)\n",
    "        res_df.append(add_metrics(test_pred, test_y, res_dict_init, \"linear_regression\"))\n",
    "\n",
    "        # Method 3: Spatial RF:\n",
    "        sp = SpatialRandomForest(max_depth=max_depth, neighbors = spatial_neighbors)\n",
    "        sp.fit(train_x, train_y, train_coords)\n",
    "        test_pred = sp.predict(test_x, test_coords)\n",
    "        res_df.append(add_metrics(test_pred, test_y, res_dict_init, \"spatial_rf\"))\n",
    "\n",
    "    res_df = pd.DataFrame(res_df)\n",
    "    res_all = res_df.groupby([\"method\"]).agg({\"MSE\": \"mean\", \"MAE\": \"mean\"}).sort_values(\"MSE\")\n",
    "    return res_all"
   ]
  },
  {
   "cell_type": "markdown",
   "id": "e9bae432",
   "metadata": {},
   "source": [
    "## Run analysis for all datasets"
   ]
  },
  {
   "cell_type": "code",
   "execution_count": 8,
   "id": "25c68cd3",
   "metadata": {},
   "outputs": [
    {
     "name": "stdout",
     "output_type": "stream",
     "text": [
      "\n",
      "DATASET plants \n",
      "\n",
      "Number of neighbors considered for spatial RF: 45\n",
      "                            MSE          MAE\n",
      "method                                      \n",
      "global_rf          4.948774e+06  1323.998968\n",
      "coord_rf           5.022293e+06  1341.746195\n",
      "linear_regression  5.391265e+06  1578.360635\n",
      "spatial_rf         6.625616e+06  1767.389305\n",
      "--------------\n",
      "\n",
      "DATASET atlantic \n",
      "\n",
      "Number of neighbors considered for spatial RF: 133\n",
      "                         MSE       MAE\n",
      "method                                \n",
      "coord_rf           53.328222  5.558439\n",
      "global_rf          57.127183  5.864575\n",
      "spatial_rf         69.166889  6.369350\n",
      "linear_regression  74.438131  6.654089\n",
      "--------------\n",
      "\n",
      "DATASET deforestation \n",
      "\n",
      "Number of neighbors considered for spatial RF: 483\n",
      "                        MSE       MAE\n",
      "method                               \n",
      "coord_rf           0.438697  0.496459\n",
      "global_rf          0.443818  0.500929\n",
      "spatial_rf         0.506337  0.559180\n",
      "linear_regression  0.680674  0.665348\n",
      "--------------\n"
     ]
    }
   ],
   "source": [
    "for DATASET in [\"plants\", \"atlantic\", \"deforestation\"]:\n",
    "    print(\"\\nDATASET\", DATASET, \"\\n\")\n",
    "    dataset_target = {\n",
    "        \"plants\" : \"richness_species_vascular\",\n",
    "        \"atlantic\": \"Rate\",\n",
    "        \"deforestation\": \"deforestation_quantile\"\n",
    "    }\n",
    "    dataset_x = {} # per default: x\n",
    "    dataset_y = {} # per default: y\n",
    "    data_path = os.path.join(\"data\", DATASET+\".csv\")\n",
    "\n",
    "    data = pd.read_csv(data_path)\n",
    "    \n",
    "    results= cross_validation(data)\n",
    "    print(results)\n",
    "    print(\"--------------\")"
   ]
  },
  {
   "cell_type": "code",
   "execution_count": null,
   "id": "ea4e02b0",
   "metadata": {},
   "outputs": [],
   "source": []
  }
 ],
 "metadata": {
  "kernelspec": {
   "display_name": "Python 3 (ipykernel)",
   "language": "python",
   "name": "python3"
  },
  "language_info": {
   "codemirror_mode": {
    "name": "ipython",
    "version": 3
   },
   "file_extension": ".py",
   "mimetype": "text/x-python",
   "name": "python",
   "nbconvert_exporter": "python",
   "pygments_lexer": "ipython3",
   "version": "3.9.5"
  }
 },
 "nbformat": 4,
 "nbformat_minor": 5
}
