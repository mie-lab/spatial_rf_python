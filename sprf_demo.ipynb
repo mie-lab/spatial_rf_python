{
 "cells": [
  {
   "cell_type": "code",
   "execution_count": 1,
   "id": "0d30a6cf",
   "metadata": {},
   "outputs": [],
   "source": [
    "# Standard and GIS Modules\n",
    "import os\n",
    "import numpy as np\n",
    "import pandas as pd\n",
    "import time\n",
    "import scipy\n",
    "from sklearn.ensemble import RandomForestRegressor\n",
    "from sklearn.metrics import mean_squared_error\n",
    "\n",
    "# import sprf package\n",
    "from sprf.spatial_random_forest import SpatialRandomForest\n",
    "from sprf.geographical_random_forest import GeographicalRandomForest\n",
    "\n",
    "# constants:\n",
    "dataset_target = {\n",
    "    \"plants\": \"richness_species_vascular\",\n",
    "    \"meuse\": \"zinc\",\n",
    "    \"atlantic\": \"Rate\",\n",
    "    \"deforestation\": \"deforestation_quantile\",\n",
    "    \"california_housing\": \"median_house_value\",\n",
    "}"
   ]
  },
  {
   "cell_type": "code",
   "execution_count": 2,
   "id": "b7d00340",
   "metadata": {},
   "outputs": [
    {
     "name": "stdout",
     "output_type": "stream",
     "text": [
      "Set dataset here: Must be one of ['plants', 'meuse', 'atlantic', 'deforestation', 'california_housing']\n"
     ]
    }
   ],
   "source": [
    "print(f\"Set dataset here: Must be one of {list(dataset_target.keys())}\")\n",
    "dataset = \"plants\""
   ]
  },
  {
   "cell_type": "markdown",
   "id": "dcb25046",
   "metadata": {},
   "source": [
    "### Load data"
   ]
  },
  {
   "cell_type": "code",
   "execution_count": 3,
   "id": "28692dce",
   "metadata": {},
   "outputs": [
    {
     "name": "stdout",
     "output_type": "stream",
     "text": [
      "samples:  227\n"
     ]
    }
   ],
   "source": [
    "data = pd.read_csv(os.path.join(\"data\", dataset+\".csv\"))\n",
    "print(\"samples: \", len(data))\n",
    "target = dataset_target[dataset]"
   ]
  },
  {
   "cell_type": "markdown",
   "id": "73366dc4",
   "metadata": {},
   "source": [
    "### Split into train and test"
   ]
  },
  {
   "cell_type": "code",
   "execution_count": 4,
   "id": "29cd834b",
   "metadata": {},
   "outputs": [],
   "source": [
    "def prepare_data(data, target, lon=\"x\", lat=\"y\"):\n",
    "    \"\"\"Assumes that all other columns are used as covariates\"\"\"\n",
    "    covariates = [col for col in data.columns if col not in [lon, lat, target]]\n",
    "    return data[covariates], data[target], data[[lon, lat]]"
   ]
  },
  {
   "cell_type": "code",
   "execution_count": 5,
   "id": "9102cda2",
   "metadata": {},
   "outputs": [],
   "source": [
    "inds = np.random.permutation(len(data))\n",
    "split = int(0.9* len(data))\n",
    "train_data = data.iloc[inds[:split]]\n",
    "test_data = data.iloc[inds[split:]]\n",
    "\n",
    "# split into x, y and coordinates\n",
    "train_x, train_y, train_coords = prepare_data(\n",
    "    train_data, target\n",
    ")\n",
    "test_x, test_y, test_coords = prepare_data(\n",
    "    test_data, target\n",
    ")"
   ]
  },
  {
   "cell_type": "markdown",
   "id": "9f6f9ac8",
   "metadata": {},
   "source": [
    "### Train and test basic random forest"
   ]
  },
  {
   "cell_type": "code",
   "execution_count": 6,
   "id": "821a8ecf",
   "metadata": {},
   "outputs": [],
   "source": [
    "n_estimators = 100 # can take quite long for Geographical RF\n",
    "max_depth = 10\n",
    "spatial_neighbors = len(data) // 5"
   ]
  },
  {
   "cell_type": "code",
   "execution_count": 7,
   "id": "9b29767c",
   "metadata": {},
   "outputs": [
    {
     "name": "stdout",
     "output_type": "stream",
     "text": [
      "Error of basic Random Forest:  1233.113304527673\n"
     ]
    }
   ],
   "source": [
    "rf = RandomForestRegressor(max_depth=max_depth)\n",
    "rf.fit(train_x, train_y)\n",
    "test_pred = rf.predict(test_x)\n",
    "\n",
    "rmse_rf = mean_squared_error(test_pred, test_y, squared=False)\n",
    "print(\"Error of basic Random Forest: \", rmse_rf)"
   ]
  },
  {
   "cell_type": "markdown",
   "id": "3b8a6329",
   "metadata": {},
   "source": [
    "### Train and test spatial random forest"
   ]
  },
  {
   "cell_type": "code",
   "execution_count": 8,
   "id": "55dc25b8",
   "metadata": {},
   "outputs": [
    {
     "name": "stdout",
     "output_type": "stream",
     "text": [
      "Error of spatial Random Forest:  1494.09398242311\n"
     ]
    }
   ],
   "source": [
    "sp = SpatialRandomForest(\n",
    "    max_depth=max_depth, neighbors=spatial_neighbors\n",
    ")\n",
    "sp.fit(train_x, train_y, train_coords)\n",
    "test_pred = sp.predict(test_x, test_coords)\n",
    "\n",
    "rmse_spatial_rf = mean_squared_error(test_pred, test_y, squared=False)\n",
    "print(\"Error of spatial Random Forest: \", rmse_spatial_rf)"
   ]
  },
  {
   "cell_type": "markdown",
   "id": "560c3a66",
   "metadata": {},
   "source": [
    "### Train and test geographical random forest"
   ]
  },
  {
   "cell_type": "code",
   "execution_count": 9,
   "id": "8bcf6b0e",
   "metadata": {},
   "outputs": [
    {
     "name": "stdout",
     "output_type": "stream",
     "text": [
      "Error of spatial Random Forest:  1326.3920442520464\n"
     ]
    }
   ],
   "source": [
    "geo_rf = GeographicalRandomForest(\n",
    "    n_estimators=n_estimators, neighbors=spatial_neighbors, max_depth=max_depth\n",
    ")\n",
    "geo_rf.fit(train_x, train_y, train_coords)\n",
    "test_pred = geo_rf.predict(test_x, test_coords)\n",
    "\n",
    "rmse_geo_rf = mean_squared_error(test_pred, test_y, squared=False)\n",
    "print(\"Error of spatial Random Forest: \", rmse_geo_rf)"
   ]
  },
  {
   "cell_type": "markdown",
   "id": "0f5a1644",
   "metadata": {},
   "source": [
    "### Tune number of neighbors"
   ]
  },
  {
   "cell_type": "code",
   "execution_count": 10,
   "id": "05ce2fd3",
   "metadata": {},
   "outputs": [
    {
     "name": "stdout",
     "output_type": "stream",
     "text": [
      "spatial rf tuned: 74\n",
      "Error of tuned spatial Random Forest:  1452.5026591622952\n"
     ]
    }
   ],
   "source": [
    "regr = SpatialRandomForest(\n",
    "        n_estimators=n_estimators, neighbors=500, max_depth=max_depth\n",
    "    )\n",
    "regr.tune_neighbors(train_x, train_y, train_coords)\n",
    "print(\"spatial rf tuned:\", regr.neighbors)\n",
    "regr.fit(train_x, train_y, train_coords)\n",
    "test_pred = regr.predict(test_x, test_coords)\n",
    "rmse_spatial_rf_tuned = mean_squared_error(test_pred, test_y, squared=False)\n",
    "print(\"Error of tuned spatial Random Forest: \", rmse_spatial_rf_tuned)"
   ]
  },
  {
   "cell_type": "code",
   "execution_count": null,
   "id": "9f78a087",
   "metadata": {},
   "outputs": [],
   "source": []
  }
 ],
 "metadata": {
  "kernelspec": {
   "display_name": "Python 3 (ipykernel)",
   "language": "python",
   "name": "python3"
  },
  "language_info": {
   "codemirror_mode": {
    "name": "ipython",
    "version": 3
   },
   "file_extension": ".py",
   "mimetype": "text/x-python",
   "name": "python",
   "nbconvert_exporter": "python",
   "pygments_lexer": "ipython3",
   "version": "3.9.5"
  }
 },
 "nbformat": 4,
 "nbformat_minor": 5
}
